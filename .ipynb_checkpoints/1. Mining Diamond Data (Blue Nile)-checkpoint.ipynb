{
 "cells": [
  {
   "cell_type": "markdown",
   "metadata": {},
   "source": [
    "# 1. Mining Diamond Data - Blue Nile®\n",
    "\n",
    "## (a) Introduction\n",
    "In this series of notebooks we are mining diamond data from merchants on the web, and subsequently using Machine Learning to be able to predict the price of a diamond. Diamond merchants often display data on the diamonds they are selling so people can peruse them and make a purchase online. They'll also usually have a comparison element with lots of features (the 5 C's etc.). Really though, if you're anything like me (a noob jeweller), how can you tell how the diamond is priced based on these features? I guess you'd have to take the merchants' word on it... \n",
    "\n",
    "What we need is data, and a regression algorithm looking at price. This notebook is the first in the series, and in it we'll tackle scraping Blue Nile® data from [their website](https://www.bluenile.com/uk/diamond-search) (soz Blue Nile... but thx for the data). \n",
    "\n",
    "In all seriousness, this data is the property of Blue Nile®, so please be respectful. I try and stick to web scraping best practises in these scripts, so if you are going to use it, please keep these in. They mostly revolve around slowing the functions down, which I realise may be frustrating, but let's keep to the code people.\n",
    "\n",
    "We'll start by importing our packages and defining a couple of functions."
   ]
  },
  {
   "cell_type": "markdown",
   "metadata": {},
   "source": [
    "## (b) Import packages / define functions"
   ]
  },
  {
   "cell_type": "code",
   "execution_count": 61,
   "metadata": {},
   "outputs": [],
   "source": [
    "import pandas as pd\n",
    "import numpy as np\n",
    "import matplotlib.pyplot as plt\n",
    "import seaborn as sns\n",
    "plt.rcParams['figure.figsize'] = [12, 7]\n",
    "\n",
    "\n",
    "from bs4 import BeautifulSoup\n",
    "import requests\n",
    "import re\n",
    "\n",
    "from selenium import webdriver\n",
    "from selenium.webdriver.common.keys import Keys\n",
    "from selenium.webdriver.common.action_chains import ActionChains\n",
    "\n",
    "import itertools\n",
    "import time # To help slow our functions down and time them\n",
    "import random # To assign random floats to breaks, hiding predictable patterns"
   ]
  },
  {
   "cell_type": "markdown",
   "metadata": {},
   "source": [
    "The below two functions are essential to working with HTML data, and we'll use these a lot throughout the notebook."
   ]
  },
  {
   "cell_type": "code",
   "execution_count": 62,
   "metadata": {},
   "outputs": [],
   "source": [
    "def pause_random(start=0.3, stop=2):\n",
    "    \"\"\"\n",
    "    Pause the function for a random amount of time between the two integers entered.\n",
    "    \"\"\"\n",
    "    time.sleep(random.uniform(start, stop))"
   ]
  },
  {
   "cell_type": "code",
   "execution_count": 63,
   "metadata": {},
   "outputs": [],
   "source": [
    "def get_page_content(page_link):\n",
    "    \"\"\"\n",
    "    Scrape the targeted HTML and store as a bs object\n",
    "    \"\"\"\n",
    "    page_response = requests.get(page_link, timeout=5)\n",
    "    page_content = BeautifulSoup(page_response.content)\n",
    "    return(page_content)"
   ]
  },
  {
   "cell_type": "code",
   "execution_count": 64,
   "metadata": {},
   "outputs": [],
   "source": [
    "def cleanhtml(raw_html):\n",
    "    \"\"\"\n",
    "    Remove HTML tags from string.\n",
    "    \"\"\"\n",
    "    cleanr = re.compile('<.*?>')\n",
    "    cleantext = re.sub(cleanr, '', raw_html)\n",
    "    return(cleantext)"
   ]
  },
  {
   "cell_type": "markdown",
   "metadata": {},
   "source": [
    "## (c) Prepare Blue Nile® dataset\n",
    "\n",
    "In this section we create a function to prepare the Blue Nile table, and do some intial exploration to help our final crawler save time.\n",
    "For reference, I denote Blue Nile® as `bn` for short."
   ]
  },
  {
   "cell_type": "code",
   "execution_count": 65,
   "metadata": {},
   "outputs": [],
   "source": [
    "# For conciseness, Blue Nile we will denote as 'bn'\n",
    "bn_link = 'https://www.bluenile.com/uk/diamond-search'"
   ]
  },
  {
   "cell_type": "code",
   "execution_count": 66,
   "metadata": {},
   "outputs": [],
   "source": [
    "# Start web driver\n",
    "browser = webdriver.Chrome('C:/Users/Edward Sims/Downloads/chromedriver.exe')\n",
    "browser.get(bn_link)\n",
    "pause_random()"
   ]
  },
  {
   "cell_type": "code",
   "execution_count": 67,
   "metadata": {},
   "outputs": [],
   "source": [
    "def prep_bn_table(link):\n",
    "    \"\"\"\n",
    "    Opens webdriver and prepares the table for scraping.\n",
    "    \"\"\"\n",
    "    \n",
    "    # Continue past the cookie notice if it exists\n",
    "    try:\n",
    "        cookie_continue = browser.find_element_by_xpath('/html/body/div[1]/button[3]')\n",
    "        cookie_continue.click()\n",
    "    except:\n",
    "        pass\n",
    "\n",
    "    # If the 360 view option is checked, uncheck it\n",
    "    view_checkbox_status = browser.find_element_by_xpath('//*[@id=\"react-app\"]/div/div/div/section[1]/div[1]/div[2]/div[3]/div[4]/div[2]/div/div/div[1]/div/div')\n",
    "    view_checkbox_status = str(view_checkbox_status.get_attribute('innerHTML'))\n",
    "    if 'checked' in view_checkbox_status:\n",
    "        view_checkbox = browser.find_element_by_class_name('bn-checkbox')\n",
    "        view_checkbox.click()\n",
    "        pause_random()\n",
    "\n",
    "    # If astor option is checked, uncheck it\n",
    "    astor_checkbox_status = browser.find_element_by_xpath('//*[@id=\"react-app\"]/div/div/div/section[1]/div[1]/div[2]/div[3]/div[5]/div[2]/div/div/div[1]/div/div')\n",
    "    astor_checkbox_status = str(astor_checkbox_status.get_attribute('innerHTML'))\n",
    "    if 'checked' in astor_checkbox_status:\n",
    "        astor_checkbox = browser.find_element_by_xpath('//*[@id=\"react-app\"]/div/div/div/section[1]/div[1]/div[2]/div[3]/div[5]/div[2]/div/div')\n",
    "        astor_checkbox.click()\n",
    "        pause_random()\n",
    "        \n",
    "    # If more filters is unselected, select it    \n",
    "    filter_status = browser.find_element_by_xpath('//*[@id=\"react-app\"]/div/div/div/section[1]/div[1]/div[2]/div[3]/div[13]/span')\n",
    "    filter_status = str(filter_status.get_attribute('innerHTML'))\n",
    "    if 'More' in filter_status:\n",
    "        more_filters = browser.find_element_by_xpath('//*[@id=\"react-app\"]/div/div/div/section[1]/div[1]/div[2]/div[3]/div[13]')\n",
    "        more_filters.click()\n",
    "    \n",
    "    # Add extra options if they are not already added\n",
    "    polish_add = browser.find_element_by_xpath('//*[@id=\"react-app\"]/div/div/div/section[1]/div[1]/div[2]/div[3]/div[12]/div[1]/div[1]/div/div')\n",
    "    symmetry_add = browser.find_element_by_xpath('//*[@id=\"react-app\"]/div/div/div/section[1]/div[1]/div[2]/div[3]/div[12]/div[2]/div[1]/div/div')\n",
    "    fluorescence_add = browser.find_element_by_xpath('//*[@id=\"react-app\"]/div/div/div/section[1]/div[1]/div[2]/div[3]/div[12]/div[3]/div[1]/div/div')\n",
    "    depth_add = browser.find_element_by_xpath('//*[@id=\"react-app\"]/div/div/div/section[1]/div[1]/div[2]/div[3]/div[12]/div[4]/div[1]/div/div')\n",
    "    table_add = browser.find_element_by_xpath('//*[@id=\"react-app\"]/div/div/div/section[1]/div[1]/div[2]/div[3]/div[12]/div[5]/div[1]/div/div')\n",
    "    lw_add = browser.find_element_by_xpath('//*[@id=\"react-app\"]/div/div/div/section[1]/div[1]/div[2]/div[3]/div[12]/div[6]/div[1]/div/div')\n",
    "    \n",
    "    feature_add_all = [polish_add, symmetry_add, fluorescence_add, depth_add, table_add, lw_add]\n",
    "    for feature_add in feature_add_all:\n",
    "        if 'toggled' not in str(feature_add.get_attribute('outerHTML')):\n",
    "            feature_add.click()\n",
    "            pause_random()\n",
    "            \n",
    "    culet_add = browser.find_element_by_xpath('//*[@id=\"react-app\"]/div/div/div/section[1]/div[1]/div[2]/div[3]/div[12]/div[8]/div[2]/button')\n",
    "    if 'active' not in str(culet_add.get_attribute('outerHTML')):\n",
    "        culet_add.click()\n",
    "        pause_random()\n",
    "    \n",
    "    # Add in all types of shape\n",
    "    round_details = browser.find_element_by_xpath('//*[@id=\"react-app\"]/div/div/div/section[1]/div[1]/div[2]/div[3]/div[6]/div[2]/div/div[1]/div[3]')\n",
    "    princess_details = browser.find_element_by_xpath('//*[@id=\"react-app\"]/div/div/div/section[1]/div[1]/div[2]/div[3]/div[6]/div[2]/div/div[2]/div[3]')\n",
    "    emerald_details = browser.find_element_by_xpath('//*[@id=\"react-app\"]/div/div/div/section[1]/div[1]/div[2]/div[3]/div[6]/div[2]/div/div[3]/div[3]')\n",
    "    asscher_details = browser.find_element_by_xpath('//*[@id=\"react-app\"]/div/div/div/section[1]/div[1]/div[2]/div[3]/div[6]/div[2]/div/div[4]/div[3]')\n",
    "    cushion_details = browser.find_element_by_xpath('//*[@id=\"react-app\"]/div/div/div/section[1]/div[1]/div[2]/div[3]/div[6]/div[2]/div/div[5]/div[3]')\n",
    "    marquise_details = browser.find_element_by_xpath('//*[@id=\"react-app\"]/div/div/div/section[1]/div[1]/div[2]/div[3]/div[6]/div[2]/div/div[6]/div[3]')\n",
    "    radiant_details = browser.find_element_by_xpath('//*[@id=\"react-app\"]/div/div/div/section[1]/div[1]/div[2]/div[3]/div[6]/div[2]/div/div[7]/div[3]')\n",
    "    oval_details = browser.find_element_by_xpath('//*[@id=\"react-app\"]/div/div/div/section[1]/div[1]/div[2]/div[3]/div[6]/div[2]/div/div[8]/div[3]')\n",
    "    pear_details = browser.find_element_by_xpath('//*[@id=\"react-app\"]/div/div/div/section[1]/div[1]/div[2]/div[3]/div[6]/div[2]/div/div[9]/div[3]')\n",
    "    heart_details = browser.find_element_by_xpath('//*[@id=\"react-app\"]/div/div/div/section[1]/div[1]/div[2]/div[3]/div[6]/div[2]/div/div[10]/div[3]')\n",
    "    \n",
    "    shape_details_all = [round_details, princess_details, emerald_details, asscher_details, cushion_details, \n",
    "                         marquise_details, radiant_details, oval_details, pear_details, heart_details]\n",
    "    \n",
    "    for shape_details in shape_details_all:\n",
    "        if 'selected' not in str(shape_details.get_attribute('outerHTML')):\n",
    "            shape_details.click()\n",
    "            pause_random()"
   ]
  },
  {
   "cell_type": "code",
   "execution_count": 68,
   "metadata": {},
   "outputs": [],
   "source": [
    "# Open and prepare the bn table for scraping\n",
    "prep_bn_table(bn_link)"
   ]
  },
  {
   "cell_type": "markdown",
   "metadata": {},
   "source": [
    "The difficulty with scraping the table is that a maximum of 1,000 results are displayed. And the prices of diamonds are hugely skewed around the £600-£2,000 price range. \n",
    "\n",
    "So we've arrived at our first major problem: \n",
    " - If we increment our price by small amounts, it'll take weeks (umm no thanks)\n",
    " - If we increment them by large amounts, we'll miss out loads of data from the price ranges with high frequencies.\n",
    "\n",
    "The best thing that we can do is take some inital data on the approximate distribution, and go from there.\n",
    "\n",
    "The below will loop through price ranges and scrape the numbers of results in each interval, so we can gain a rough picture of the distribution of our dataset. This will take a little time, but should help us cut down the time our final looping function takes. \n",
    "\n",
    "N.B. This took ~20mins to complete."
   ]
  },
  {
   "cell_type": "code",
   "execution_count": 108,
   "metadata": {},
   "outputs": [],
   "source": [
    "def collect_price_freqs():\n",
    "    \"\"\"\n",
    "    Loops through price, scrapes and stores the \n",
    "    number of results at each range.\n",
    "    \"\"\"\n",
    "    \n",
    "    def get_num_results():\n",
    "        \"\"\"\n",
    "        Scrapes the number of results shown in the price range.    \n",
    "        \"\"\"\n",
    "        results_path = browser.find_element_by_xpath('//*[@id=\"react-app\"]/div/div/div/section[1]/div[2]/div[4]/button[1]/span[2]')\n",
    "        # Scrape HTML and clean\n",
    "        results_val = cleanhtml(str(BeautifulSoup(results_path.get_attribute('innerHTML'))))\n",
    "        # Strip  punctuation, and convert to integer\n",
    "        results_val = int(re.sub(r'[^\\w\\s]','', results_val))\n",
    "        return(results_val)\n",
    "\n",
    "    # Create a dataframe with our new headers\n",
    "    headers = ['price_range','freq']\n",
    "    bn_price_freqs = pd.DataFrame(columns=headers)\n",
    "    \n",
    "    # Min and max price locations\n",
    "    min_price_box = browser.find_element_by_xpath('//*[@id=\"react-app\"]/div/div/div/section[1]/div[1]/div[2]/div[3]/div[7]/div[2]/div/div[1]/input[1]')\n",
    "    max_price_box = browser.find_element_by_xpath('//*[@id=\"react-app\"]/div/div/div/section[1]/div[1]/div[2]/div[3]/div[7]/div[2]/div/div[1]/input[2]')\n",
    "    \n",
    "    # Assign default interval value\n",
    "    price_interval = 10000\n",
    "    \n",
    "    # Get min and max values (without £ and comma values)\n",
    "    min_price_value = int(min_price_box.get_attribute('value')[1:].replace(',', ''))\n",
    "    min_price_value = min_price_value - 1 # Minus 1, so we can add 1 in the loop\n",
    "    max_price_value = int(max_price_box.get_attribute('value')[1:].replace(',', ''))\n",
    "    \n",
    "    total_freq = get_num_results()\n",
    "    \n",
    "    # Find a neutral zone to click on\n",
    "    neutral = browser.find_element_by_xpath('//*[@id=\"react-app\"]/div/div/div/section[1]/div[1]/div[2]/div[3]/div[7]/div[1]/h3')\n",
    "    cumul_freq = 0 # To cumulitively add the freqs as we go\n",
    "    start = time.time()\n",
    "    \n",
    "    # Loop through prices\n",
    "    for min_val in range(min_price_value, max_price_value, price_interval):\n",
    "        \n",
    "        lower_price = min_val + 1 # Add 1 so there are no overlapping intervals\n",
    "        higher_price = min_val + price_interval\n",
    "        \n",
    "        # Edit max price\n",
    "        max_price_box.click()\n",
    "        max_price_box.send_keys(Keys.BACKSPACE)\n",
    "        max_price_box.send_keys(str(higher_price)) \n",
    "        neutral.click()\n",
    "        time.sleep(random.uniform(0.3,2))\n",
    "        \n",
    "        # Edit min price            \n",
    "        min_price_box.click()\n",
    "        min_price_box.send_keys(Keys.BACKSPACE)\n",
    "        min_price_box.send_keys(str(lower_price))\n",
    "        neutral.click()\n",
    "        time.sleep(random.uniform(0.3,1))         \n",
    "        \n",
    "        freq = get_num_results()   \n",
    "        cumul_freq = cumul_freq + freq\n",
    "        \n",
    "        # Store the range and keep going\n",
    "        price_range = str(lower_price) + ' to ' + str(higher_price)\n",
    "        results = [price_range, freq]\n",
    "        \n",
    "        bn_price_freqs = bn_price_freqs.append(dict(zip(headers,results)), ignore_index=True)\n",
    "        print(total_freq-cumul_freq)\n",
    "\n",
    "        if total_freq - cumul_freq <= 999:\n",
    "            print(results)\n",
    "            break\n",
    "    # Add variables to df for min and max values\n",
    "    min_vals = []\n",
    "    max_vals = []\n",
    "    for int_range in bn_price_freqs['price_range']:\n",
    "        min_vals.append(int(int_range.split(' to ')[0]))\n",
    "        max_vals.append(int(int_range.split(' to ')[1]))\n",
    "        \n",
    "    bn_price_freqs['min_price'] = min_vals\n",
    "    bn_price_freqs['max_price'] = max_vals\n",
    "    \n",
    "    end = time.time()\n",
    "    print(end - start, 'secs to complete')\n",
    "    print('Total results: ', total_freq)\n",
    "    print(results)\n",
    "    return(bn_price_freqs)"
   ]
  },
  {
   "cell_type": "code",
   "execution_count": 109,
   "metadata": {},
   "outputs": [
    {
     "name": "stdout",
     "output_type": "stream",
     "text": [
      "19172\n",
      "8587\n",
      "5347\n",
      "3755\n",
      "2781\n",
      "2132\n",
      "1725\n",
      "1426\n",
      "1206\n",
      "1017\n",
      "863\n",
      "['100194 to 110193', 154]\n",
      "54.7300500869751 secs to complete\n",
      "Total results:  215861\n"
     ]
    },
    {
     "data": {
      "text/html": [
       "<div>\n",
       "<style scoped>\n",
       "    .dataframe tbody tr th:only-of-type {\n",
       "        vertical-align: middle;\n",
       "    }\n",
       "\n",
       "    .dataframe tbody tr th {\n",
       "        vertical-align: top;\n",
       "    }\n",
       "\n",
       "    .dataframe thead th {\n",
       "        text-align: right;\n",
       "    }\n",
       "</style>\n",
       "<table border=\"1\" class=\"dataframe\">\n",
       "  <thead>\n",
       "    <tr style=\"text-align: right;\">\n",
       "      <th></th>\n",
       "      <th>price_range</th>\n",
       "      <th>freq</th>\n",
       "      <th>min_price</th>\n",
       "      <th>max_price</th>\n",
       "    </tr>\n",
       "  </thead>\n",
       "  <tbody>\n",
       "    <tr>\n",
       "      <th>0</th>\n",
       "      <td>194 to 10193</td>\n",
       "      <td>196689</td>\n",
       "      <td>194</td>\n",
       "      <td>10193</td>\n",
       "    </tr>\n",
       "    <tr>\n",
       "      <th>1</th>\n",
       "      <td>10194 to 20193</td>\n",
       "      <td>10585</td>\n",
       "      <td>10194</td>\n",
       "      <td>20193</td>\n",
       "    </tr>\n",
       "    <tr>\n",
       "      <th>2</th>\n",
       "      <td>20194 to 30193</td>\n",
       "      <td>3240</td>\n",
       "      <td>20194</td>\n",
       "      <td>30193</td>\n",
       "    </tr>\n",
       "    <tr>\n",
       "      <th>3</th>\n",
       "      <td>30194 to 40193</td>\n",
       "      <td>1592</td>\n",
       "      <td>30194</td>\n",
       "      <td>40193</td>\n",
       "    </tr>\n",
       "    <tr>\n",
       "      <th>4</th>\n",
       "      <td>40194 to 50193</td>\n",
       "      <td>974</td>\n",
       "      <td>40194</td>\n",
       "      <td>50193</td>\n",
       "    </tr>\n",
       "  </tbody>\n",
       "</table>\n",
       "</div>"
      ],
      "text/plain": [
       "      price_range    freq  min_price  max_price\n",
       "0    194 to 10193  196689        194      10193\n",
       "1  10194 to 20193   10585      10194      20193\n",
       "2  20194 to 30193    3240      20194      30193\n",
       "3  30194 to 40193    1592      30194      40193\n",
       "4  40194 to 50193     974      40194      50193"
      ]
     },
     "execution_count": 109,
     "metadata": {},
     "output_type": "execute_result"
    }
   ],
   "source": [
    "# Collect the frequencies and remove all ranges with no results\n",
    "bn_price_freqs = collect_price_freqs()\n",
    "bn_price_freqs.head()"
   ]
  },
  {
   "cell_type": "code",
   "execution_count": 97,
   "metadata": {},
   "outputs": [
    {
     "name": "stdout",
     "output_type": "stream",
     "text": [
      "cumul_freq:  215904\n",
      "total_freq:  215907\n"
     ]
    }
   ],
   "source": [
    "print('cumul_freq: ', cumul_freq)\n",
    "print('total_freq: ', total_freq)"
   ]
  },
  {
   "cell_type": "code",
   "execution_count": 103,
   "metadata": {},
   "outputs": [
    {
     "data": {
      "text/plain": [
       "215904"
      ]
     },
     "execution_count": 103,
     "metadata": {},
     "output_type": "execute_result"
    }
   ],
   "source": [
    "cumul_freq"
   ]
  },
  {
   "cell_type": "code",
   "execution_count": 99,
   "metadata": {},
   "outputs": [
    {
     "data": {
      "text/html": [
       "<div>\n",
       "<style scoped>\n",
       "    .dataframe tbody tr th:only-of-type {\n",
       "        vertical-align: middle;\n",
       "    }\n",
       "\n",
       "    .dataframe tbody tr th {\n",
       "        vertical-align: top;\n",
       "    }\n",
       "\n",
       "    .dataframe thead th {\n",
       "        text-align: right;\n",
       "    }\n",
       "</style>\n",
       "<table border=\"1\" class=\"dataframe\">\n",
       "  <thead>\n",
       "    <tr style=\"text-align: right;\">\n",
       "      <th></th>\n",
       "      <th>price_range</th>\n",
       "      <th>freq</th>\n",
       "      <th>min_price</th>\n",
       "      <th>max_price</th>\n",
       "    </tr>\n",
       "  </thead>\n",
       "  <tbody>\n",
       "    <tr>\n",
       "      <th>0</th>\n",
       "      <td>194 to 10193</td>\n",
       "      <td>196735</td>\n",
       "      <td>194</td>\n",
       "      <td>10193</td>\n",
       "    </tr>\n",
       "    <tr>\n",
       "      <th>1</th>\n",
       "      <td>10194 to 20193</td>\n",
       "      <td>10585</td>\n",
       "      <td>10194</td>\n",
       "      <td>20193</td>\n",
       "    </tr>\n",
       "    <tr>\n",
       "      <th>2</th>\n",
       "      <td>20194 to 30193</td>\n",
       "      <td>3240</td>\n",
       "      <td>20194</td>\n",
       "      <td>30193</td>\n",
       "    </tr>\n",
       "    <tr>\n",
       "      <th>3</th>\n",
       "      <td>30194 to 40193</td>\n",
       "      <td>1592</td>\n",
       "      <td>30194</td>\n",
       "      <td>40193</td>\n",
       "    </tr>\n",
       "    <tr>\n",
       "      <th>4</th>\n",
       "      <td>40194 to 50193</td>\n",
       "      <td>974</td>\n",
       "      <td>40194</td>\n",
       "      <td>50193</td>\n",
       "    </tr>\n",
       "    <tr>\n",
       "      <th>5</th>\n",
       "      <td>50194 to 60193</td>\n",
       "      <td>2778</td>\n",
       "      <td>50194</td>\n",
       "      <td>60193</td>\n",
       "    </tr>\n",
       "  </tbody>\n",
       "</table>\n",
       "</div>"
      ],
      "text/plain": [
       "      price_range    freq  min_price  max_price\n",
       "0    194 to 10193  196735        194      10193\n",
       "1  10194 to 20193   10585      10194      20193\n",
       "2  20194 to 30193    3240      20194      30193\n",
       "3  30194 to 40193    1592      30194      40193\n",
       "4  40194 to 50193     974      40194      50193\n",
       "5  50194 to 60193    2778      50194      60193"
      ]
     },
     "execution_count": 99,
     "metadata": {},
     "output_type": "execute_result"
    }
   ],
   "source": [
    "bn_price_freqs"
   ]
  },
  {
   "cell_type": "code",
   "execution_count": 100,
   "metadata": {},
   "outputs": [
    {
     "data": {
      "text/plain": [
       "215904"
      ]
     },
     "execution_count": 100,
     "metadata": {},
     "output_type": "execute_result"
    }
   ],
   "source": [
    "sum(bn_price_freqs['freq'])"
   ]
  },
  {
   "cell_type": "code",
   "execution_count": 102,
   "metadata": {},
   "outputs": [
    {
     "data": {
      "text/plain": [
       "3"
      ]
     },
     "execution_count": 102,
     "metadata": {},
     "output_type": "execute_result"
    }
   ],
   "source": [
    "total_freq-215904"
   ]
  },
  {
   "cell_type": "code",
   "execution_count": null,
   "metadata": {},
   "outputs": [],
   "source": []
  },
  {
   "cell_type": "code",
   "execution_count": 13,
   "metadata": {},
   "outputs": [],
   "source": [
    "# Remove intervals with zero frequency\n",
    "bn_price_freqs_no_zero = bn_price_freqs[bn_price_freqs.freq != 0]\n",
    "#bn_price_freqs_no_zero = bn_price_freqs_no_zero.reindex(index=bn_price_freqs_no_zero.index[::-1]).reset_index(drop=True)"
   ]
  },
  {
   "cell_type": "code",
   "execution_count": 24,
   "metadata": {},
   "outputs": [],
   "source": [
    "bn_dist_list = []\n",
    "for i in bn_price_freqs.index:\n",
    "    bn_dist_list.append(list(itertools.repeat([bn_price_freqs['max_price'][i]], bn_price_freqs['freq'][i])))\n",
    "bn_dist = pd.DataFrame(list(item for sublist in bn_dist_list for item in sublist), columns=['max_price'])"
   ]
  },
  {
   "cell_type": "code",
   "execution_count": 35,
   "metadata": {},
   "outputs": [
    {
     "data": {
      "image/png": "[encoded data removed]",
      "text/plain": [
       "<Figure size 864x504 with 1 Axes>"
      ]
     },
     "metadata": {
      "needs_background": "light"
     },
     "output_type": "display_data"
    }
   ],
   "source": [
    "sns.distplot(bn_dist['max_price'], hist = False, kde = True, label = 'max_price')\n",
    "plt.show()"
   ]
  },
  {
   "cell_type": "code",
   "execution_count": null,
   "metadata": {},
   "outputs": [],
   "source": []
  },
  {
   "cell_type": "code",
   "execution_count": null,
   "metadata": {},
   "outputs": [],
   "source": []
  },
  {
   "cell_type": "code",
   "execution_count": null,
   "metadata": {},
   "outputs": [],
   "source": []
  },
  {
   "cell_type": "code",
   "execution_count": null,
   "metadata": {},
   "outputs": [],
   "source": []
  },
  {
   "cell_type": "code",
   "execution_count": null,
   "metadata": {},
   "outputs": [],
   "source": []
  },
  {
   "cell_type": "code",
   "execution_count": null,
   "metadata": {},
   "outputs": [],
   "source": []
  },
  {
   "cell_type": "code",
   "execution_count": null,
   "metadata": {},
   "outputs": [],
   "source": []
  },
  {
   "cell_type": "code",
   "execution_count": null,
   "metadata": {
    "scrolled": true
   },
   "outputs": [],
   "source": [
    "bn_price_freqs_no_zero"
   ]
  },
  {
   "cell_type": "code",
   "execution_count": null,
   "metadata": {},
   "outputs": [],
   "source": []
  },
  {
   "cell_type": "code",
   "execution_count": null,
   "metadata": {},
   "outputs": [],
   "source": []
  },
  {
   "cell_type": "code",
   "execution_count": null,
   "metadata": {},
   "outputs": [],
   "source": []
  },
  {
   "cell_type": "markdown",
   "metadata": {},
   "source": [
    "We'll gather all the final values into one larger bin to save some time there. Let's see how far we can go from the maximum before it gets over 900."
   ]
  },
  {
   "cell_type": "code",
   "execution_count": null,
   "metadata": {},
   "outputs": [],
   "source": [
    "freq = 0\n",
    "max_val = bn_price_freqs_no_zero.iloc[0,0].split(' to ')[1]\n",
    "for index, freq_val in bn_price_freqs_no_zero.iterrows():\n",
    "    if freq >= 900:\n",
    "        #max_val = freq_val[0].split(' to ')[1]\n",
    "        print(freq_val[0].split(' to ')[0], 'to', max_val, ':\\t', freq)\n",
    "        freq = 0\n",
    "\n",
    "        \n",
    "    freq = freq + freq_val[1]"
   ]
  },
  {
   "cell_type": "markdown",
   "metadata": {},
   "source": [
    "In that case, we'll iterate through prices up to £6,000 in £5 increments, up to £12,200 in £200 increments, up to £20,200 in £500 increments, up to £98,200 in £2,000 increments, and straight to the max from £19,201. Hopefully that'll make things a little easier on the Blue Nile servers, and not leave me waiting for decades for the algorithm to finish."
   ]
  },
  {
   "cell_type": "code",
   "execution_count": null,
   "metadata": {},
   "outputs": [],
   "source": [
    "def get_bn_data():\n",
    "    \"\"\"\n",
    "    Loops through all the price values, scrapes the results and stores\n",
    "    it into a dataframe.\n",
    "    \"\"\"\n",
    "    \n",
    "    def get_num_results():\n",
    "        \"\"\"\n",
    "        Scrapes the number of results shown in the price range.    \n",
    "        \"\"\"\n",
    "        results_path = browser.find_element_by_xpath('//*[@id=\"react-app\"]/div/div/div/section[1]/div[2]/div[4]/button[1]/span[2]')\n",
    "        # Scrape the HTML and clean\n",
    "        results_val = cleanhtml(str(BeautifulSoup(results_path.get_attribute('innerHTML'))))\n",
    "        # Strip the punctuation, and convert to integer\n",
    "        results_val = int(re.sub(r'[^\\w\\s]','', results_val))\n",
    "        return(results_val)    \n",
    "    \n",
    "    bn_headers = []\n",
    "    \n",
    "    # Isolate the table headers HTML\n",
    "    headers_data = browser.find_element_by_xpath('//*[@id=\"react-app\"]/div/div/div/section[1]/section/div/div/div[1]/div')\n",
    "    headers_html = BeautifulSoup(headers_data.get_attribute('innerHTML'))\n",
    "    \n",
    "    # Get the header values\n",
    "    for div in headers_html.find_all('div'):\n",
    "        for header in div.find_all('span'):\n",
    "            bn_headers.append(cleanhtml(str(header)))\n",
    "    bn_headers = list(filter(('').__ne__, bn_headers))\n",
    "    bn_headers.remove('Compare')\n",
    "    \n",
    "    # Create a dataframe with our new headers\n",
    "    bn_df = pd.DataFrame(columns=bn_headers)\n",
    "    \n",
    "    # Min and max price locations\n",
    "    min_price_box = browser.find_element_by_xpath('//*[@id=\"react-app\"]/div/div/div/section[1]/div[1]/div[2]/div[3]/div[7]/div[2]/div/div[1]/input[1]')\n",
    "    max_price_box = browser.find_element_by_xpath('//*[@id=\"react-app\"]/div/div/div/section[1]/div[1]/div[2]/div[3]/div[7]/div[2]/div/div[1]/input[2]')\n",
    "    \n",
    "    \n",
    "    # Assign a default range value\n",
    "    price_range = 5\n",
    "    \n",
    "    # Get the min and max values (without £ and comma values)\n",
    "    min_price_value = int(min_price_box.get_attribute('value')[1:].replace(',', ''))\n",
    "    max_price_value = int(max_price_box.get_attribute('value')[1:].replace(',', ''))\n",
    "    \n",
    "    # Find a neutral zone to click on\n",
    "    neutral = browser.find_element_by_xpath('//*[@id=\"react-app\"]/div/div/div/section[1]/div[1]/div[2]/div[3]/div[7]/div[1]/h3')\n",
    "    \n",
    "    ####### EDITS HERE ########        \n",
    "\n",
    "    def bn_table_scrape_loop(price_range):\n",
    "        \n",
    "        # Loop through prices to limit numbers displayed\n",
    "        for min_val in range(min_price_value, max_price_value, price_range):   \n",
    "            # Edit min price\n",
    "            min_price_box.click()\n",
    "            min_price_box.send_keys(Keys.BACKSPACE)\n",
    "            min_price_box.send_keys(str(min_val))\n",
    "            neutral.click()\n",
    "            time.sleep(random.uniform(0.3,2))\n",
    "            \n",
    "            # Edit max price\n",
    "            max_price_box.click()\n",
    "            max_price_box.send_keys(Keys.BACKSPACE)\n",
    "            time.sleep(2)\n",
    "            max_price_box.send_keys(str(min_val+price_range)) \n",
    "            neutral.click()\n",
    "    \n",
    "            time.sleep(random.uniform(0.3,2))\n",
    "            \n",
    "            table_web_source = browser.find_element_by_xpath('//*[@id=\"react-app\"]/div/div/div/section[1]/section/div/div/div[2]')\n",
    "            table_html = BeautifulSoup(table_web_source.get_attribute('innerHTML'))\n",
    "            \n",
    "            # Scrape the table! First get the raw table html\n",
    "            table_rows_html = table_html.find_all('a',{'class':'grid-row row '})\n",
    "            time.sleep(random.uniform(0.3,3))\n",
    "                \n",
    "            # Then loop through each row \n",
    "            for row in table_rows_html:\n",
    "                bn_data = []\n",
    "                # And loop through each value\n",
    "                for value in row.find_all('span'):\n",
    "                    bn_data.append(cleanhtml(str(value)))\n",
    "                \n",
    "                bn_data = list(filter(('').__ne__, bn_data)) # Remove all empty values\n",
    "                del bn_data[4] # Delete index 4 in list as it returns two dupe vals - unique to their HTML\n",
    "                #print(bn_data)\n",
    "                bn_df = bn_df.append(dict(zip(bn_headers,bn_data)),ignore_index=True)\n",
    "\n",
    "    \n",
    "        return(bn_df)"
   ]
  },
  {
   "cell_type": "code",
   "execution_count": null,
   "metadata": {},
   "outputs": [],
   "source": [
    "get_bn_data()"
   ]
  },
  {
   "cell_type": "code",
   "execution_count": null,
   "metadata": {},
   "outputs": [],
   "source": []
  },
  {
   "cell_type": "code",
   "execution_count": null,
   "metadata": {},
   "outputs": [],
   "source": []
  },
  {
   "cell_type": "code",
   "execution_count": null,
   "metadata": {},
   "outputs": [],
   "source": [
    "for min_val in range(0, 100, 5):\n",
    "    if min_val <= 20:\n",
    "        print(5)\n",
    "    elif min_val <= 60:\n",
    "        print(20)\n",
    "    else:\n",
    "        print(40)"
   ]
  },
  {
   "cell_type": "code",
   "execution_count": null,
   "metadata": {},
   "outputs": [],
   "source": []
  },
  {
   "cell_type": "code",
   "execution_count": null,
   "metadata": {},
   "outputs": [],
   "source": []
  },
  {
   "cell_type": "code",
   "execution_count": null,
   "metadata": {},
   "outputs": [],
   "source": []
  },
  {
   "cell_type": "code",
   "execution_count": null,
   "metadata": {},
   "outputs": [],
   "source": []
  },
  {
   "cell_type": "code",
   "execution_count": null,
   "metadata": {},
   "outputs": [],
   "source": []
  }
 ],
 "metadata": {
  "kernelspec": {
   "display_name": "'Python Interactive'",
   "language": "python",
   "name": "a8dae707-2c7a-4728-90dd-23e595076851"
  },
  "language_info": {
   "codemirror_mode": {
    "name": "ipython",
    "version": 3
   },
   "file_extension": ".py",
   "mimetype": "text/x-python",
   "name": "python",
   "nbconvert_exporter": "python",
   "pygments_lexer": "ipython3",
   "version": "3.7.1"
  }
 },
 "nbformat": 4,
 "nbformat_minor": 2
}
